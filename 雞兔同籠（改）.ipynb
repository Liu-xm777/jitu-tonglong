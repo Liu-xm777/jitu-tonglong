{
 "cells": [
  {
   "cell_type": "code",
   "execution_count": null,
   "id": "0c0e35bc",
   "metadata": {},
   "outputs": [],
   "source": [
    "zhishu=int(input(\"how many animals are there?\"))\n",
    "tuishu=int(input(\"how many feet are there?\"))"
   ]
  },
  {
   "cell_type": "code",
   "execution_count": null,
   "id": "0e6e2ff9",
   "metadata": {},
   "outputs": [],
   "source": [
    "for Rabbit in range (zhishu):\n",
    "    for Chicken in range (zhishu):\n",
    "        if((Rabbit+Chicken) == zhishu)and((Rabbit*4+Chicken*2)==tuishu):\n",
    "            print(\"there are %d Rabbit,%d Chicken\"%(Rabbit,Chicken))"
   ]
  }
 ],
 "metadata": {
  "kernelspec": {
   "display_name": "Python 3 (ipykernel)",
   "language": "python",
   "name": "python3"
  },
  "language_info": {
   "codemirror_mode": {
    "name": "ipython",
    "version": 3
   },
   "file_extension": ".py",
   "mimetype": "text/x-python",
   "name": "python",
   "nbconvert_exporter": "python",
   "pygments_lexer": "ipython3",
   "version": "3.11.4"
  }
 },
 "nbformat": 4,
 "nbformat_minor": 5
}
